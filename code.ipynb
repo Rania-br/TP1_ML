{
 "cells": [
  {
   "cell_type": "code",
   "execution_count": 1,
   "id": "0d219c46-4298-4af8-aa44-45dce68ddfb9",
   "metadata": {},
   "outputs": [],
   "source": [
    "import pandas as pd\n",
    "import numpy as np\n",
    "from sklearn import linear_model\n",
    "import seaborn as sns\n",
    "import pickle\n",
    "import matplotlib.pyplot as plt"
   ]
  },
  {
   "cell_type": "markdown",
   "id": "93755c2a-0164-44d0-9eaa-73f312072b9e",
   "metadata": {},
   "source": [
    "def1 = read_pickle_file(\"imdb_raw_neg.pickle\")\n",
    "def2 = read_pickle_file(\"imdb_raw_pos.pickle\")"
   ]
  },
  {
   "cell_type": "code",
   "execution_count": 4,
   "id": "411090dd-d328-4f41-b35c-2e5e4b7dbf94",
   "metadata": {},
   "outputs": [],
   "source": [
    "df_neg=pd.DataFrame(def1)\n",
    "df_neg.columns=[\"Avis\"]\n",
    "df_neg[\"Les sentiments\"]=\"Neg\"\n",
    "\n",
    "df_pos=pd.DataFrame(def2)\n",
    "df_pos.columns=[\"Avis\"]\n",
    "df_pos[\"Les sentiments\"]=\"Pos\""
   ]
  },
  {
   "cell_type": "code",
   "execution_count": 5,
   "id": "11a4c4ab-737d-414f-a7b9-c8e2540e44c6",
   "metadata": {},
   "outputs": [],
   "source": [
    "df=pd.concat([df_neg,df_pos])\n",
    "df=df.sample(frac=1)"
   ]
  },
  {
   "cell_type": "code",
   "execution_count": 6,
   "id": "f803c701-cada-470f-bada-ac220a604ca2",
   "metadata": {},
   "outputs": [],
   "source": [
    "def changement_de_valeur(df,x,y):\n",
    "    if df['Les sentiments'].eq(x).any():\n",
    "        df.loc[df['Les sentiments'].eq(x),'Les sentiments'] = y\n",
    "    else : \n",
    "        df = pd.concat([df,pd.DataFrame([[x,y]],columns=df.columns)],ignore_index=True)\n",
    "    return df"
   ]
  },
  {
   "cell_type": "code",
   "execution_count": 9,
   "id": "f80647c3-53bd-4973-8b56-106c58e134cc",
   "metadata": {},
   "outputs": [
    {
     "data": {
      "text/html": [
       "<div>\n",
       "<style scoped>\n",
       "    .dataframe tbody tr th:only-of-type {\n",
       "        vertical-align: middle;\n",
       "    }\n",
       "\n",
       "    .dataframe tbody tr th {\n",
       "        vertical-align: top;\n",
       "    }\n",
       "\n",
       "    .dataframe thead th {\n",
       "        text-align: right;\n",
       "    }\n",
       "</style>\n",
       "<table border=\"1\" class=\"dataframe\">\n",
       "  <thead>\n",
       "    <tr style=\"text-align: right;\">\n",
       "      <th></th>\n",
       "      <th>Avis</th>\n",
       "      <th>Sentiments</th>\n",
       "    </tr>\n",
       "  </thead>\n",
       "  <tbody>\n",
       "    <tr>\n",
       "      <th>count</th>\n",
       "      <td>25000</td>\n",
       "      <td>25000</td>\n",
       "    </tr>\n",
       "    <tr>\n",
       "      <th>unique</th>\n",
       "      <td>24801</td>\n",
       "      <td>2</td>\n",
       "    </tr>\n",
       "    <tr>\n",
       "      <th>top</th>\n",
       "      <td>Loved today's show!!! It was a variety and not...</td>\n",
       "      <td>Neg</td>\n",
       "    </tr>\n",
       "    <tr>\n",
       "      <th>freq</th>\n",
       "      <td>5</td>\n",
       "      <td>12500</td>\n",
       "    </tr>\n",
       "  </tbody>\n",
       "</table>\n",
       "</div>"
      ],
      "text/plain": [
       "                                                     Avis Sentiments\n",
       "count                                               25000      25000\n",
       "unique                                              24801          2\n",
       "top     Loved today's show!!! It was a variety and not...        Neg\n",
       "freq                                                    5      12500"
      ]
     },
     "execution_count": 9,
     "metadata": {},
     "output_type": "execute_result"
    }
   ],
   "source": [
    "df.describe()"
   ]
  },
  {
   "cell_type": "code",
   "execution_count": 10,
   "id": "39e8ae43-39db-4d30-b492-ada8941c4be2",
   "metadata": {},
   "outputs": [],
   "source": [
    "df=df.reset_index()\n",
    "df=df.drop(['index'],axis=1)"
   ]
  },
  {
   "cell_type": "code",
   "execution_count": 11,
   "id": "9edb1299-f71c-4f5f-b3cf-63d2fe590839",
   "metadata": {},
   "outputs": [
    {
     "data": {
      "text/plain": [
       "Neg    12500\n",
       "Pos    12500\n",
       "Name: Sentiments, dtype: int64"
      ]
     },
     "execution_count": 11,
     "metadata": {},
     "output_type": "execute_result"
    }
   ],
   "source": [
    "df['Les sentiments'].value_counts()"
   ]
  },
  {
   "cell_type": "code",
   "execution_count": 12,
   "id": "c1b54227-8e59-4ebd-90b9-196b02721ce1",
   "metadata": {},
   "outputs": [],
   "source": [
    "from nltk.stem import WordNetLemmatizer\n",
    "from sklearn.svm import LinearSVC\n",
    "from sklearn.naive_bayes import BernoulliNB\n",
    "from sklearn.linear_model import LogisticRegression\n",
    "from sklearn.model_selection import train_test_split\n",
    "from sklearn.feature_extraction.text import TfidfVectorizer\n",
    "from sklearn.metrics import confusion_matrix, classification_report"
   ]
  },
  {
   "cell_type": "code",
   "execution_count": 13,
   "id": "94851a6f-ba56-48c5-a0f5-b7c786390b56",
   "metadata": {},
   "outputs": [
    {
     "data": {
      "image/png": "[encoded data removed]",
      "text/plain": [
       "<Figure size 432x288 with 1 Axes>"
      ]
     },
     "metadata": {
      "needs_background": "light"
     },
     "output_type": "display_data"
    }
   ],
   "source": [
    "ax = df.groupby('Les sentiments').count().plot(kind='bar', title='La distribution des données',\n",
    "                                               legend=False)\n",
    "ax.set_xticklabels(['Neg','Pos'], rotation=0)\n",
    "\n",
    "# Storing data in lists.\n",
    "text, sentiment = list(df['Avis']), list(df['Les sentiments'])"
   ]
  },
  {
   "cell_type": "code",
   "execution_count": 15,
   "id": "1aaf6f33-500b-4ce2-8695-82a2ef1d0a42",
   "metadata": {},
   "outputs": [],
   "source": [
    "def preprocess(textdata):\n",
    "    processedText = []\n",
    "    \n",
    "    \n",
    "    wordLemm = WordNetLemmatizer()\n",
    "\n",
    "    \n",
    "    for tweet in textdata:\n",
    "        tweet = tweet.lower()\n",
    "        \n",
    "        tweet = re.sub(urlPattern,' URL',tweet)\n",
    "\n",
    "        for emoji in emojis.keys():\n",
    "            tweet = tweet.replace(emoji, \"EMOJI\" + emojis[emoji])        \n",
    "\n",
    "            tweet = re.sub(userPattern,' USER', tweet)        \n",
    "\n",
    "            tweet = re.sub(alphaPattern, \" \", tweet)\n",
    "\n",
    "            tweet = re.sub(sequencePattern, seqReplacePattern, tweet)\n",
    "\n",
    "        tweetwords = ''\n",
    "        for word in tweet.split():\n",
    "\n",
    "            if len(word)>1:\n",
    "\n",
    "                word = wordLemm.lemmatize(word)\n",
    "                tweetwords += (word+' ')\n",
    "            \n",
    "        processedText.append(tweetwords)\n",
    "        \n",
    "    return processedText\n"
   ]
  },
  {
   "cell_type": "code",
   "execution_count": 16,
   "id": "3d11c4ba-9d42-4133-97a9-5c5a7afdbc44",
   "metadata": {},
   "outputs": [
    {
     "name": "stdout",
     "output_type": "stream",
     "text": [
      "Text Preprocessing complete.\n",
      "Time Taken: 63 seconds\n"
     ]
    }
   ],
   "source": [
    "import time\n",
    "t = time.time()\n",
    "processedtext = preprocess(text)\n",
    "print(f'Text Preprocessing complete.')\n",
    "print(f'Time Taken: {round(time.time()-t)} seconds')"
   ]
  },
  {
   "cell_type": "code",
   "execution_count": 17,
   "id": "02b7aca5-64e0-41c2-a68b-0f4147c33cd5",
   "metadata": {},
   "outputs": [],
   "source": [
    "X_train, X_test, y_train, y_test = train_test_split(text, sentiment,\n",
    "                                                    test_size = 0.3, random_state = 0)\n"
   ]
  },
  {
   "cell_type": "code",
   "execution_count": 18,
   "id": "5a9c5849-5ca0-47f8-8e89-325e75425b1e",
   "metadata": {},
   "outputs": [
    {
     "name": "stderr",
     "output_type": "stream",
     "text": [
      "C:\\Anaconda\\lib\\site-packages\\sklearn\\utils\\deprecation.py:87: FutureWarning: Function get_feature_names is deprecated; get_feature_names is deprecated in 1.0 and will be removed in 1.2. Please use get_feature_names_out instead.\n",
      "  warnings.warn(msg, category=FutureWarning)\n"
     ]
    },
    {
     "name": "stdout",
     "output_type": "stream",
     "text": [
      "No. of feature_words:  500000\n"
     ]
    }
   ],
   "source": [
    "vectoriser = TfidfVectorizer(ngram_range=(1,2), max_features=500000)\n",
    "vectoriser.fit(X_train)\n",
    "print('No. of feature_words: ', len(vectoriser.get_feature_names()))"
   ]
  },
  {
   "cell_type": "code",
   "execution_count": 19,
   "id": "eca92530-ca77-4046-86d0-f7e7cc7aa778",
   "metadata": {},
   "outputs": [
    {
     "name": "stdout",
     "output_type": "stream",
     "text": [
      "Data Transformed.\n"
     ]
    }
   ],
   "source": [
    "X_train = vectoriser.transform(X_train)\n",
    "X_test  = vectoriser.transform(X_test)\n",
    "print(f'Data Transformed.')"
   ]
  }
 ],
 "metadata": {
  "kernelspec": {
   "display_name": "Python 3",
   "language": "python",
   "name": "python3"
  },
  "language_info": {
   "codemirror_mode": {
    "name": "ipython",
    "version": 3
   },
   "file_extension": ".py",
   "mimetype": "text/x-python",
   "name": "python",
   "nbconvert_exporter": "python",
   "pygments_lexer": "ipython3",
   "version": "3.8.8"
  }
 },
 "nbformat": 4,
 "nbformat_minor": 5
}
